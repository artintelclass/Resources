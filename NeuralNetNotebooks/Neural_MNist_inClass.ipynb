{
 "cells": [
  {
   "cell_type": "code",
   "execution_count": 46,
   "metadata": {
    "collapsed": false
   },
   "outputs": [],
   "source": [
    "import numpy #for matrices\n",
    "import scipy.special #for sigmoid\n",
    "import matplotlib.pyplot\n",
    "%matplotlib inline"
   ]
  },
  {
   "cell_type": "code",
   "execution_count": 47,
   "metadata": {
    "collapsed": true
   },
   "outputs": [],
   "source": [
    "class neuralNetwork:\n",
    "    def __init__(self, inputnodes, hiddennodes, outputnodes, learningrate):\n",
    "        self.inodes = inputnodes\n",
    "        self.hnodes = hiddennodes\n",
    "        self.onodes = outputnodes\n",
    "        self.lr = learningrate\n",
    "        \n",
    "        #activation function, expit is sigmoid\n",
    "        self.activation_function = lambda x: scipy.special.expit(x)\n",
    "        \n",
    "        #weights inside the arrays are w_i_j\n",
    "        #where link is from node i to node j in the next layer\n",
    "        # w11 w21\n",
    "        # w12 w22 etc\n",
    "        self.wih = numpy.random.normal(0.0,pow(self.hnodes, -0.5),(self.hnodes, self.inodes))\n",
    "        self.who = numpy.random.normal(0.0,pow(self.onodes, -0.5),(self.onodes, self.hnodes))\n",
    "    \n",
    "    #train the neural net\n",
    "    def train(self, inputs_list, targets_list):\n",
    "        # convert inputs list to 2d array\n",
    "        inputs = numpy.array(inputs_list, ndmin=2).T\n",
    "        targets = numpy.array(targets_list, ndmin=2).T\n",
    "        \n",
    "        #input & hidden layer\n",
    "        hidden_inputs = numpy.dot(self.wih, inputs)\n",
    "        hidden_outputs = self.activation_function(hidden_inputs)\n",
    "        \n",
    "        #hidden layer & output\n",
    "        final_inputs = numpy.dot(self.who, hidden_outputs)\n",
    "        final_outputs = self.activation_function(final_inputs)\n",
    "        \n",
    "        #error is target-actual\n",
    "        output_errors = targets - final_outputs\n",
    "        \n",
    "        #hidden error is the output errors, split by weights, recombinded at hidden nodes\n",
    "        hidden_errors = numpy.dot(self.who.T, output_errors)\n",
    "\n",
    "        #update weights between hidden and output layers\n",
    "        self.who += self.lr * numpy.dot((output_errors * final_outputs * (1.0 - final_outputs)), numpy.transpose(hidden_outputs))\n",
    "        \n",
    "        #update weights between input and hidden layers\n",
    "        self.wih += self.lr * numpy.dot((hidden_errors * hidden_outputs * (1.0 - hidden_outputs)), numpy.transpose(inputs))\n",
    "    \n",
    "    #query the neural network\n",
    "    def query(self, inputs_list):\n",
    "        # convert inputs list to 2d array\n",
    "        inputs = numpy.array(inputs_list, ndmin=2).T\n",
    "        \n",
    "        #input & hidden layer\n",
    "        hidden_inputs = numpy.dot(self.wih, inputs)\n",
    "        hidden_outputs = self.activation_function(hidden_inputs)\n",
    "        \n",
    "        #hidden layer & output\n",
    "        final_inputs = numpy.dot(self.who, hidden_outputs)\n",
    "        final_outputs = self.activation_function(final_inputs)\n",
    "        \n",
    "        return final_outputs"
   ]
  },
  {
   "cell_type": "code",
   "execution_count": 48,
   "metadata": {
    "collapsed": true
   },
   "outputs": [],
   "source": [
    "input_nodes = 784\n",
    "hidden_nodes = 100\n",
    "output_nodes = 10\n",
    "learning_rate = 0.3\n",
    "\n",
    "n = neuralNetwork(input_nodes, hidden_nodes, output_nodes, learning_rate)"
   ]
  },
  {
   "cell_type": "code",
   "execution_count": 49,
   "metadata": {
    "collapsed": true
   },
   "outputs": [],
   "source": [
    "training_data_file = open(\"../mnist_dataset/mnist_train.csv\", 'r')\n",
    "training_data_list = training_data_file.readlines()\n",
    "training_data_file.close()"
   ]
  },
  {
   "cell_type": "code",
   "execution_count": 50,
   "metadata": {
    "collapsed": false
   },
   "outputs": [
    {
     "data": {
      "text/plain": [
       "<matplotlib.image.AxesImage at 0x11f856390>"
      ]
     },
     "execution_count": 50,
     "metadata": {},
     "output_type": "execute_result"
    },
    {
     "data": {
      "image/png": "[encoded data removed]",
      "text/plain": [
       "<matplotlib.figure.Figure at 0x121e00650>"
      ]
     },
     "metadata": {},
     "output_type": "display_data"
    }
   ],
   "source": [
    "#draw a number\n",
    "all_values = training_data_list[0].split(',')\n",
    "image_array = numpy.asfarray(all_values[1:]).reshape((28,28))\n",
    "#imshow plots a numpy array as an image\n",
    "matplotlib.pyplot.imshow(image_array, cmap='Greys', interpolation='None')"
   ]
  },
  {
   "cell_type": "code",
   "execution_count": 51,
   "metadata": {
    "collapsed": true
   },
   "outputs": [],
   "source": [
    "# TRAIN IT\n",
    "\n",
    "for record in training_data_list:\n",
    "    #split via comma\n",
    "    all_values = record.split(',')\n",
    "    # scale and shift inputs\n",
    "    inputs = (numpy.asfarray(all_values[1:]) / 255.0*0.99) + 0.01\n",
    "    # create the target output values (all 0.01 except desired label which will be 0.99)\n",
    "    targets = numpy.zeros(output_nodes) + 0.01\n",
    "    # the first place in the csv array is the label\n",
    "    targets[int(all_values[0])] = 0.99\n",
    "    n.train(inputs, targets)"
   ]
  },
  {
   "cell_type": "code",
   "execution_count": 52,
   "metadata": {
    "collapsed": true
   },
   "outputs": [],
   "source": [
    "test_data_file = open(\"../mnist_dataset/mnist_test.csv\", 'r')\n",
    "test_data_list = test_data_file.readlines()\n",
    "test_data_file.close()"
   ]
  },
  {
   "cell_type": "code",
   "execution_count": 53,
   "metadata": {
    "collapsed": false
   },
   "outputs": [
    {
     "name": "stdout",
     "output_type": "stream",
     "text": [
      "('performance = ', 0.94040000000000001)\n"
     ]
    }
   ],
   "source": [
    "#test it\n",
    "\n",
    "scorecard = []\n",
    "\n",
    "for record in test_data_list:\n",
    "    all_values = record.split(',')\n",
    "    correct_label = int(all_values[0])\n",
    "    #print(correct_label, \"correct label\")\n",
    "    inputs = (numpy.asfarray(all_values[1:]) / 255.0*0.99) + 0.01\n",
    "    \n",
    "    outputs = n.query(inputs)\n",
    "    \n",
    "    label = numpy.argmax(outputs)\n",
    "    #print(label, \"network's answer\")\n",
    "    if (label == correct_label):\n",
    "        scorecard.append(1)\n",
    "    else:\n",
    "        scorecard.append(0)\n",
    "\n",
    "scorecard_array = numpy.asfarray(scorecard)\n",
    "\n",
    "print (\"performance = \", scorecard_array.sum() / scorecard_array.size)"
   ]
  },
  {
   "cell_type": "code",
   "execution_count": 54,
   "metadata": {
    "collapsed": false
   },
   "outputs": [
    {
     "name": "stdout",
     "output_type": "stream",
     "text": [
      "(9, 'correct label')\n",
      "[[  2.17647318e-03]\n",
      " [  2.22394408e-03]\n",
      " [  1.70778738e-03]\n",
      " [  4.85026376e-03]\n",
      " [  1.45206994e-02]\n",
      " [  6.75537002e-04]\n",
      " [  1.06403614e-02]\n",
      " [  4.53057172e-03]\n",
      " [  1.26642407e-02]\n",
      " [  9.90163931e-01]]\n",
      "(9, \"network's answer\")\n"
     ]
    },
    {
     "data": {
      "text/plain": [
       "<matplotlib.image.AxesImage at 0x121fd1c90>"
      ]
     },
     "execution_count": 54,
     "metadata": {},
     "output_type": "execute_result"
    },
    {
     "data": {
      "image/png": "[encoded data removed]",
      "text/plain": [
       "<matplotlib.figure.Figure at 0x121811910>"
      ]
     },
     "metadata": {},
     "output_type": "display_data"
    }
   ],
   "source": [
    "#query it\n",
    "import random\n",
    "\n",
    "scorecard = []\n",
    "\n",
    "#choose a random number to test\n",
    "whichNumber = random.randint(0,len(test_data_list))\n",
    "\n",
    "record = test_data_list[whichNumber]\n",
    "all_values = record.split(',')\n",
    "\n",
    "correct_label = int(all_values[0])\n",
    "print(correct_label, \"correct label\")\n",
    "inputs = (numpy.asfarray(all_values[1:]) / 255.0*0.99) + 0.01\n",
    "\n",
    "#our predections\n",
    "outputs = n.query(inputs)\n",
    "print outputs\n",
    "\n",
    "label = numpy.argmax(outputs)\n",
    "print(label, \"network's answer\")\n",
    "\n",
    "image_array = numpy.asfarray(all_values[1:]).reshape((28,28))\n",
    "matplotlib.pyplot.imshow(image_array, cmap='Greys', interpolation='None')\n"
   ]
  },
  {
   "cell_type": "code",
   "execution_count": null,
   "metadata": {
    "collapsed": true
   },
   "outputs": [],
   "source": []
  }
 ],
 "metadata": {
  "anaconda-cloud": {},
  "kernelspec": {
   "display_name": "Python [default]",
   "language": "python",
   "name": "python2"
  },
  "language_info": {
   "codemirror_mode": {
    "name": "ipython",
    "version": 2
   },
   "file_extension": ".py",
   "mimetype": "text/x-python",
   "name": "python",
   "nbconvert_exporter": "python",
   "pygments_lexer": "ipython2",
   "version": "2.7.12"
  }
 },
 "nbformat": 4,
 "nbformat_minor": 1
}
