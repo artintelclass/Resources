{
 "cells": [
  {
   "cell_type": "code",
   "execution_count": null,
   "metadata": {},
   "outputs": [],
   "source": [
    "# from: https://github.com/aymericdamien/TensorFlow-Examples/blob/master/notebooks/3_NeuralNetworks/neural_network.ipynb"
   ]
  },
  {
   "cell_type": "code",
   "execution_count": 51,
   "metadata": {},
   "outputs": [
    {
     "name": "stdout",
     "output_type": "stream",
     "text": [
      "Extracting /tmp/data/train-images-idx3-ubyte.gz\n",
      "Extracting /tmp/data/train-labels-idx1-ubyte.gz\n",
      "Extracting /tmp/data/t10k-images-idx3-ubyte.gz\n",
      "Extracting /tmp/data/t10k-labels-idx1-ubyte.gz\n"
     ]
    }
   ],
   "source": [
    "from __future__ import print_function\n",
    "\n",
    "# Import MNIST data\n",
    "from tensorflow.examples.tutorials.mnist import input_data\n",
    "mnist = input_data.read_data_sets(\"/tmp/data/\", one_hot=False)\n",
    "\n",
    "import tensorflow as tf\n",
    "import matplotlib.pyplot as plt\n",
    "import numpy as np\n",
    "import random"
   ]
  },
  {
   "cell_type": "code",
   "execution_count": 59,
   "metadata": {},
   "outputs": [],
   "source": [
    "# Parameters\n",
    "learning_rate = 0.1\n",
    "num_steps = 10000\n",
    "batch_size = 128\n",
    "display_step = 100\n",
    "\n",
    "# Network Parameters\n",
    "n_hidden_1 = 256 # 1st layer number of neurons\n",
    "n_hidden_2 = 256 # 2nd layer number of neurons\n",
    "num_input = 784 # MNIST data input (img shape: 28*28)\n",
    "num_classes = 10 # MNIST total classes (0-9 digits)"
   ]
  },
  {
   "cell_type": "code",
   "execution_count": 60,
   "metadata": {},
   "outputs": [],
   "source": [
    "# Define the input function for training\n",
    "input_fn = tf.estimator.inputs.numpy_input_fn(\n",
    "    x={'images': mnist.train.images}, y=mnist.train.labels,\n",
    "    batch_size=batch_size, num_epochs=None, shuffle=True)"
   ]
  },
  {
   "cell_type": "code",
   "execution_count": 61,
   "metadata": {},
   "outputs": [],
   "source": [
    "# Define the neural network\n",
    "def neural_net(x_dict):\n",
    "    # TF Estimator input is a dict, in case of multiple inputs\n",
    "    x = x_dict['images']\n",
    "    # Hidden fully connected layer with 256 neurons\n",
    "    layer_1 = tf.layers.dense(x, n_hidden_1)\n",
    "    # Hidden fully connected layer with 256 neurons\n",
    "    layer_2 = tf.layers.dense(layer_1, n_hidden_2)\n",
    "    # Output fully connected layer with a neuron for each class\n",
    "    out_layer = tf.layers.dense(layer_2, num_classes)\n",
    "    return out_layer"
   ]
  },
  {
   "cell_type": "code",
   "execution_count": 62,
   "metadata": {},
   "outputs": [],
   "source": [
    "# Define the model function (following TF Estimator Template)\n",
    "def model_fn(features, labels, mode):\n",
    "    \n",
    "    # Build the neural network\n",
    "    logits = neural_net(features)\n",
    "    \n",
    "    # Predictions\n",
    "    pred_classes = tf.argmax(logits, axis=1)\n",
    "    pred_probas = tf.nn.softmax(logits)\n",
    "    \n",
    "    # If prediction mode, early return\n",
    "    if mode == tf.estimator.ModeKeys.PREDICT:\n",
    "        return tf.estimator.EstimatorSpec(mode, predictions=pred_classes) \n",
    "        \n",
    "    # Define loss and optimizer\n",
    "    loss_op = tf.reduce_mean(tf.nn.sparse_softmax_cross_entropy_with_logits(\n",
    "        logits=logits, labels=tf.cast(labels, dtype=tf.int32)))\n",
    "    optimizer = tf.train.GradientDescentOptimizer(learning_rate=learning_rate)\n",
    "    train_op = optimizer.minimize(loss_op, global_step=tf.train.get_global_step())\n",
    "    \n",
    "    # Evaluate the accuracy of the model\n",
    "    acc_op = tf.metrics.accuracy(labels=labels, predictions=pred_classes)\n",
    "    \n",
    "    # TF Estimators requires to return a EstimatorSpec, that specify\n",
    "    # the different ops for training, evaluating, ...\n",
    "    estim_specs = tf.estimator.EstimatorSpec(\n",
    "      mode=mode,\n",
    "      predictions=pred_classes,\n",
    "      loss=loss_op,\n",
    "      train_op=train_op,\n",
    "      eval_metric_ops={'accuracy': acc_op})\n",
    "\n",
    "    return estim_specs"
   ]
  },
  {
   "cell_type": "code",
   "execution_count": 63,
   "metadata": {},
   "outputs": [
    {
     "name": "stdout",
     "output_type": "stream",
     "text": [
      "INFO:tensorflow:Using default config.\n",
      "WARNING:tensorflow:Using temporary folder as model directory: /var/folders/2z/khrnj_dn3zv_t52wp04myk200000gn/T/tmpVCDb3P\n",
      "INFO:tensorflow:Using config: {'_save_checkpoints_secs': 600, '_session_config': None, '_keep_checkpoint_max': 5, '_task_type': 'worker', '_is_chief': True, '_cluster_spec': <tensorflow.python.training.server_lib.ClusterSpec object at 0x1a2d84f350>, '_save_checkpoints_steps': None, '_keep_checkpoint_every_n_hours': 10000, '_service': None, '_num_ps_replicas': 0, '_tf_random_seed': None, '_master': '', '_num_worker_replicas': 1, '_task_id': 0, '_log_step_count_steps': 100, '_model_dir': '/var/folders/2z/khrnj_dn3zv_t52wp04myk200000gn/T/tmpVCDb3P', '_save_summary_steps': 100}\n"
     ]
    }
   ],
   "source": [
    "# Build the Estimator\n",
    "model = tf.estimator.Estimator(model_fn)"
   ]
  },
  {
   "cell_type": "code",
   "execution_count": 64,
   "metadata": {},
   "outputs": [
    {
     "name": "stdout",
     "output_type": "stream",
     "text": [
      "INFO:tensorflow:Create CheckpointSaverHook.\n",
      "INFO:tensorflow:Saving checkpoints for 1 into /var/folders/2z/khrnj_dn3zv_t52wp04myk200000gn/T/tmpVCDb3P/model.ckpt.\n",
      "INFO:tensorflow:loss = 2.55894, step = 1\n",
      "INFO:tensorflow:global_step/sec: 331.093\n",
      "INFO:tensorflow:loss = 0.53306615, step = 101 (0.304 sec)\n",
      "INFO:tensorflow:global_step/sec: 348.471\n",
      "INFO:tensorflow:loss = 0.46105474, step = 201 (0.287 sec)\n",
      "INFO:tensorflow:global_step/sec: 325.938\n",
      "INFO:tensorflow:loss = 0.3450814, step = 301 (0.307 sec)\n",
      "INFO:tensorflow:global_step/sec: 334.345\n",
      "INFO:tensorflow:loss = 0.29881263, step = 401 (0.299 sec)\n",
      "INFO:tensorflow:global_step/sec: 339.36\n",
      "INFO:tensorflow:loss = 0.11862142, step = 501 (0.295 sec)\n",
      "INFO:tensorflow:global_step/sec: 344.425\n",
      "INFO:tensorflow:loss = 0.38591784, step = 601 (0.290 sec)\n",
      "INFO:tensorflow:global_step/sec: 345.199\n",
      "INFO:tensorflow:loss = 0.2639142, step = 701 (0.290 sec)\n",
      "INFO:tensorflow:global_step/sec: 324.508\n",
      "INFO:tensorflow:loss = 0.27159393, step = 801 (0.308 sec)\n",
      "INFO:tensorflow:global_step/sec: 289.036\n",
      "INFO:tensorflow:loss = 0.17533861, step = 901 (0.350 sec)\n",
      "INFO:tensorflow:global_step/sec: 291.135\n",
      "INFO:tensorflow:loss = 0.33740038, step = 1001 (0.340 sec)\n",
      "INFO:tensorflow:global_step/sec: 337.085\n",
      "INFO:tensorflow:loss = 0.43044332, step = 1101 (0.297 sec)\n",
      "INFO:tensorflow:global_step/sec: 322.266\n",
      "INFO:tensorflow:loss = 0.3323447, step = 1201 (0.310 sec)\n",
      "INFO:tensorflow:global_step/sec: 327.252\n",
      "INFO:tensorflow:loss = 0.30119643, step = 1301 (0.305 sec)\n",
      "INFO:tensorflow:global_step/sec: 334.107\n",
      "INFO:tensorflow:loss = 0.20799857, step = 1401 (0.299 sec)\n",
      "INFO:tensorflow:global_step/sec: 310.598\n",
      "INFO:tensorflow:loss = 0.24080807, step = 1501 (0.322 sec)\n",
      "INFO:tensorflow:global_step/sec: 285.602\n",
      "INFO:tensorflow:loss = 0.21442124, step = 1601 (0.350 sec)\n",
      "INFO:tensorflow:global_step/sec: 296.773\n",
      "INFO:tensorflow:loss = 0.25732118, step = 1701 (0.337 sec)\n",
      "INFO:tensorflow:global_step/sec: 328.138\n",
      "INFO:tensorflow:loss = 0.25645182, step = 1801 (0.305 sec)\n",
      "INFO:tensorflow:global_step/sec: 317.696\n",
      "INFO:tensorflow:loss = 0.16833693, step = 1901 (0.315 sec)\n",
      "INFO:tensorflow:global_step/sec: 314.454\n",
      "INFO:tensorflow:loss = 0.3951271, step = 2001 (0.318 sec)\n",
      "INFO:tensorflow:global_step/sec: 314.758\n",
      "INFO:tensorflow:loss = 0.35369426, step = 2101 (0.318 sec)\n",
      "INFO:tensorflow:global_step/sec: 303.651\n",
      "INFO:tensorflow:loss = 0.270369, step = 2201 (0.329 sec)\n",
      "INFO:tensorflow:global_step/sec: 312.041\n",
      "INFO:tensorflow:loss = 0.28655744, step = 2301 (0.321 sec)\n",
      "INFO:tensorflow:global_step/sec: 272.932\n",
      "INFO:tensorflow:loss = 0.3201896, step = 2401 (0.367 sec)\n",
      "INFO:tensorflow:global_step/sec: 298.08\n",
      "INFO:tensorflow:loss = 0.46084067, step = 2501 (0.335 sec)\n",
      "INFO:tensorflow:global_step/sec: 285.834\n",
      "INFO:tensorflow:loss = 0.28363854, step = 2601 (0.350 sec)\n",
      "INFO:tensorflow:global_step/sec: 296.136\n",
      "INFO:tensorflow:loss = 0.21254362, step = 2701 (0.338 sec)\n",
      "INFO:tensorflow:global_step/sec: 295.993\n",
      "INFO:tensorflow:loss = 0.31665334, step = 2801 (0.338 sec)\n",
      "INFO:tensorflow:global_step/sec: 282.185\n",
      "INFO:tensorflow:loss = 0.2304244, step = 2901 (0.354 sec)\n",
      "INFO:tensorflow:global_step/sec: 247.227\n",
      "INFO:tensorflow:loss = 0.27105963, step = 3001 (0.405 sec)\n",
      "INFO:tensorflow:global_step/sec: 254.348\n",
      "INFO:tensorflow:loss = 0.30645454, step = 3101 (0.393 sec)\n",
      "INFO:tensorflow:global_step/sec: 287.425\n",
      "INFO:tensorflow:loss = 0.25539804, step = 3201 (0.348 sec)\n",
      "INFO:tensorflow:global_step/sec: 249.227\n",
      "INFO:tensorflow:loss = 0.20705532, step = 3301 (0.401 sec)\n",
      "INFO:tensorflow:global_step/sec: 269.511\n",
      "INFO:tensorflow:loss = 0.32246226, step = 3401 (0.371 sec)\n",
      "INFO:tensorflow:global_step/sec: 257.902\n",
      "INFO:tensorflow:loss = 0.22265312, step = 3501 (0.388 sec)\n",
      "INFO:tensorflow:global_step/sec: 256.193\n",
      "INFO:tensorflow:loss = 0.3906326, step = 3601 (0.390 sec)\n",
      "INFO:tensorflow:global_step/sec: 251.819\n",
      "INFO:tensorflow:loss = 0.15068945, step = 3701 (0.397 sec)\n",
      "INFO:tensorflow:global_step/sec: 249.262\n",
      "INFO:tensorflow:loss = 0.33966088, step = 3801 (0.401 sec)\n",
      "INFO:tensorflow:global_step/sec: 274.932\n",
      "INFO:tensorflow:loss = 0.17799123, step = 3901 (0.364 sec)\n",
      "INFO:tensorflow:global_step/sec: 265.987\n",
      "INFO:tensorflow:loss = 0.33452782, step = 4001 (0.376 sec)\n",
      "INFO:tensorflow:global_step/sec: 278.539\n",
      "INFO:tensorflow:loss = 0.48579723, step = 4101 (0.359 sec)\n",
      "INFO:tensorflow:global_step/sec: 272.525\n",
      "INFO:tensorflow:loss = 0.24718046, step = 4201 (0.367 sec)\n",
      "INFO:tensorflow:global_step/sec: 246.895\n",
      "INFO:tensorflow:loss = 0.21885657, step = 4301 (0.405 sec)\n",
      "INFO:tensorflow:global_step/sec: 249.566\n",
      "INFO:tensorflow:loss = 0.23671973, step = 4401 (0.401 sec)\n",
      "INFO:tensorflow:global_step/sec: 243.012\n",
      "INFO:tensorflow:loss = 0.12155812, step = 4501 (0.412 sec)\n",
      "INFO:tensorflow:global_step/sec: 267.743\n",
      "INFO:tensorflow:loss = 0.3290017, step = 4601 (0.373 sec)\n",
      "INFO:tensorflow:global_step/sec: 264.72\n",
      "INFO:tensorflow:loss = 0.34562322, step = 4701 (0.378 sec)\n",
      "INFO:tensorflow:global_step/sec: 256.028\n",
      "INFO:tensorflow:loss = 0.14720339, step = 4801 (0.391 sec)\n",
      "INFO:tensorflow:global_step/sec: 274.364\n",
      "INFO:tensorflow:loss = 0.2058457, step = 4901 (0.364 sec)\n",
      "INFO:tensorflow:global_step/sec: 264.597\n",
      "INFO:tensorflow:loss = 0.22352348, step = 5001 (0.378 sec)\n",
      "INFO:tensorflow:global_step/sec: 249.876\n",
      "INFO:tensorflow:loss = 0.4154955, step = 5101 (0.400 sec)\n",
      "INFO:tensorflow:global_step/sec: 263.923\n",
      "INFO:tensorflow:loss = 0.1726288, step = 5201 (0.379 sec)\n",
      "INFO:tensorflow:global_step/sec: 249.55\n",
      "INFO:tensorflow:loss = 0.262832, step = 5301 (0.401 sec)\n",
      "INFO:tensorflow:global_step/sec: 273.056\n",
      "INFO:tensorflow:loss = 0.5180238, step = 5401 (0.366 sec)\n",
      "INFO:tensorflow:global_step/sec: 285.689\n",
      "INFO:tensorflow:loss = 0.17637335, step = 5501 (0.350 sec)\n",
      "INFO:tensorflow:global_step/sec: 285.585\n",
      "INFO:tensorflow:loss = 0.21763222, step = 5601 (0.350 sec)\n",
      "INFO:tensorflow:global_step/sec: 291.812\n",
      "INFO:tensorflow:loss = 0.24384496, step = 5701 (0.343 sec)\n",
      "INFO:tensorflow:global_step/sec: 279.627\n",
      "INFO:tensorflow:loss = 0.2874015, step = 5801 (0.358 sec)\n",
      "INFO:tensorflow:global_step/sec: 241.583\n",
      "INFO:tensorflow:loss = 0.16889699, step = 5901 (0.414 sec)\n",
      "INFO:tensorflow:global_step/sec: 283.242\n",
      "INFO:tensorflow:loss = 0.3862515, step = 6001 (0.352 sec)\n",
      "INFO:tensorflow:global_step/sec: 259.833\n",
      "INFO:tensorflow:loss = 0.18021703, step = 6101 (0.385 sec)\n",
      "INFO:tensorflow:global_step/sec: 278.404\n",
      "INFO:tensorflow:loss = 0.12506601, step = 6201 (0.359 sec)\n",
      "INFO:tensorflow:global_step/sec: 267.494\n",
      "INFO:tensorflow:loss = 0.37678337, step = 6301 (0.374 sec)\n",
      "INFO:tensorflow:global_step/sec: 282.796\n",
      "INFO:tensorflow:loss = 0.2938483, step = 6401 (0.354 sec)\n",
      "INFO:tensorflow:global_step/sec: 271.379\n",
      "INFO:tensorflow:loss = 0.34056047, step = 6501 (0.368 sec)\n",
      "INFO:tensorflow:global_step/sec: 256.743\n",
      "INFO:tensorflow:loss = 0.15794486, step = 6601 (0.389 sec)\n",
      "INFO:tensorflow:global_step/sec: 252.939\n",
      "INFO:tensorflow:loss = 0.3121181, step = 6701 (0.395 sec)\n",
      "INFO:tensorflow:global_step/sec: 263.687\n",
      "INFO:tensorflow:loss = 0.24011867, step = 6801 (0.379 sec)\n",
      "INFO:tensorflow:global_step/sec: 267.613\n",
      "INFO:tensorflow:loss = 0.29745525, step = 6901 (0.374 sec)\n",
      "INFO:tensorflow:global_step/sec: 270.799\n",
      "INFO:tensorflow:loss = 0.15992562, step = 7001 (0.369 sec)\n",
      "INFO:tensorflow:global_step/sec: 266.636\n",
      "INFO:tensorflow:loss = 0.34557825, step = 7101 (0.375 sec)\n",
      "INFO:tensorflow:global_step/sec: 276.168\n",
      "INFO:tensorflow:loss = 0.43633723, step = 7201 (0.362 sec)\n",
      "INFO:tensorflow:global_step/sec: 289.74\n",
      "INFO:tensorflow:loss = 0.45771593, step = 7301 (0.345 sec)\n",
      "INFO:tensorflow:global_step/sec: 288.541\n",
      "INFO:tensorflow:loss = 0.1487822, step = 7401 (0.346 sec)\n",
      "INFO:tensorflow:global_step/sec: 297.007\n",
      "INFO:tensorflow:loss = 0.19556902, step = 7501 (0.337 sec)\n",
      "INFO:tensorflow:global_step/sec: 299.983\n",
      "INFO:tensorflow:loss = 0.32735372, step = 7601 (0.333 sec)\n",
      "INFO:tensorflow:global_step/sec: 288.087\n",
      "INFO:tensorflow:loss = 0.4186884, step = 7701 (0.347 sec)\n",
      "INFO:tensorflow:global_step/sec: 270.803\n",
      "INFO:tensorflow:loss = 0.08229132, step = 7801 (0.369 sec)\n",
      "INFO:tensorflow:global_step/sec: 295.209\n",
      "INFO:tensorflow:loss = 0.32013464, step = 7901 (0.339 sec)\n",
      "INFO:tensorflow:global_step/sec: 289.266\n",
      "INFO:tensorflow:loss = 0.1366319, step = 8001 (0.346 sec)\n",
      "INFO:tensorflow:global_step/sec: 246.848\n"
     ]
    },
    {
     "name": "stdout",
     "output_type": "stream",
     "text": [
      "INFO:tensorflow:loss = 0.34862658, step = 8101 (0.405 sec)\n",
      "INFO:tensorflow:global_step/sec: 278.698\n",
      "INFO:tensorflow:loss = 0.28742298, step = 8201 (0.359 sec)\n",
      "INFO:tensorflow:global_step/sec: 299.185\n",
      "INFO:tensorflow:loss = 0.20607872, step = 8301 (0.334 sec)\n",
      "INFO:tensorflow:global_step/sec: 291.034\n",
      "INFO:tensorflow:loss = 0.20410396, step = 8401 (0.344 sec)\n",
      "INFO:tensorflow:global_step/sec: 277.111\n",
      "INFO:tensorflow:loss = 0.28766453, step = 8501 (0.361 sec)\n",
      "INFO:tensorflow:global_step/sec: 265.221\n",
      "INFO:tensorflow:loss = 0.15171447, step = 8601 (0.377 sec)\n",
      "INFO:tensorflow:global_step/sec: 280.956\n",
      "INFO:tensorflow:loss = 0.22444811, step = 8701 (0.356 sec)\n",
      "INFO:tensorflow:global_step/sec: 299.276\n",
      "INFO:tensorflow:loss = 0.25063315, step = 8801 (0.334 sec)\n",
      "INFO:tensorflow:global_step/sec: 292.956\n",
      "INFO:tensorflow:loss = 0.22943163, step = 8901 (0.342 sec)\n",
      "INFO:tensorflow:global_step/sec: 293.946\n",
      "INFO:tensorflow:loss = 0.23035565, step = 9001 (0.340 sec)\n",
      "INFO:tensorflow:global_step/sec: 283.042\n",
      "INFO:tensorflow:loss = 0.2049368, step = 9101 (0.353 sec)\n",
      "INFO:tensorflow:global_step/sec: 260.061\n",
      "INFO:tensorflow:loss = 0.12788604, step = 9201 (0.385 sec)\n",
      "INFO:tensorflow:global_step/sec: 256.872\n",
      "INFO:tensorflow:loss = 0.43388483, step = 9301 (0.389 sec)\n",
      "INFO:tensorflow:global_step/sec: 290.902\n",
      "INFO:tensorflow:loss = 0.21247621, step = 9401 (0.344 sec)\n",
      "INFO:tensorflow:global_step/sec: 286.92\n",
      "INFO:tensorflow:loss = 0.2234109, step = 9501 (0.349 sec)\n",
      "INFO:tensorflow:global_step/sec: 292.46\n",
      "INFO:tensorflow:loss = 0.30268964, step = 9601 (0.342 sec)\n",
      "INFO:tensorflow:global_step/sec: 294.426\n",
      "INFO:tensorflow:loss = 0.3158868, step = 9701 (0.340 sec)\n",
      "INFO:tensorflow:global_step/sec: 290.645\n",
      "INFO:tensorflow:loss = 0.26927322, step = 9801 (0.344 sec)\n",
      "INFO:tensorflow:global_step/sec: 283.444\n",
      "INFO:tensorflow:loss = 0.2885872, step = 9901 (0.353 sec)\n",
      "INFO:tensorflow:Saving checkpoints for 10000 into /var/folders/2z/khrnj_dn3zv_t52wp04myk200000gn/T/tmpVCDb3P/model.ckpt.\n",
      "INFO:tensorflow:Loss for final step: 0.21452923.\n"
     ]
    },
    {
     "data": {
      "text/plain": [
       "<tensorflow.python.estimator.estimator.Estimator at 0x1a2d84f950>"
      ]
     },
     "execution_count": 64,
     "metadata": {},
     "output_type": "execute_result"
    }
   ],
   "source": [
    "# Train the Model\n",
    "model.train(input_fn, steps=num_steps)"
   ]
  },
  {
   "cell_type": "code",
   "execution_count": 66,
   "metadata": {},
   "outputs": [
    {
     "name": "stdout",
     "output_type": "stream",
     "text": [
      "INFO:tensorflow:Starting evaluation at 2018-03-18-12:43:09\n",
      "INFO:tensorflow:Restoring parameters from /var/folders/2z/khrnj_dn3zv_t52wp04myk200000gn/T/tmpVCDb3P/model.ckpt-10000\n",
      "INFO:tensorflow:Finished evaluation at 2018-03-18-12:43:09\n",
      "INFO:tensorflow:Saving dict for global step 10000: accuracy = 0.9221, global_step = 10000, loss = 0.28065625\n"
     ]
    },
    {
     "data": {
      "text/plain": [
       "{'accuracy': 0.9221, 'global_step': 10000, 'loss': 0.28065625}"
      ]
     },
     "execution_count": 66,
     "metadata": {},
     "output_type": "execute_result"
    }
   ],
   "source": [
    "# Evaluate the Model\n",
    "# Define the input function for evaluating\n",
    "input_fn = tf.estimator.inputs.numpy_input_fn(\n",
    "    x={'images': mnist.test.images}, y=mnist.test.labels,\n",
    "    batch_size=batch_size, shuffle=False)\n",
    "# Use the Estimator 'evaluate' method\n",
    "model.evaluate(input_fn)"
   ]
  },
  {
   "cell_type": "code",
   "execution_count": 68,
   "metadata": {},
   "outputs": [
    {
     "name": "stdout",
     "output_type": "stream",
     "text": [
      "INFO:tensorflow:Restoring parameters from /var/folders/2z/khrnj_dn3zv_t52wp04myk200000gn/T/tmpVCDb3P/model.ckpt-10000\n"
     ]
    },
    {
     "data": {
      "image/png": "[encoded data removed]",
      "text/plain": [
       "<matplotlib.figure.Figure at 0x1a2d2c7790>"
      ]
     },
     "metadata": {},
     "output_type": "display_data"
    },
    {
     "name": "stdout",
     "output_type": "stream",
     "text": [
      "Model prediction: 8\n"
     ]
    }
   ],
   "source": [
    "# Predict single image\n",
    "\n",
    "whichImage = random.randint(0,len(mnist.test.images))\n",
    "# Get image from test set\n",
    "test_image = mnist.test.images[whichImage].reshape(1, 784)\n",
    "\n",
    "# Prepare the input data\n",
    "input_fn = tf.estimator.inputs.numpy_input_fn(\n",
    "    x={'images': test_image}, shuffle=False)\n",
    "# Use the model to predict the images class\n",
    "preds = list(model.predict(input_fn))\n",
    "\n",
    "# Display\n",
    "\n",
    "plt.imshow(np.reshape(test_image, [28, 28]), cmap='gray')\n",
    "plt.show()\n",
    "print(\"Model prediction:\", preds[0])"
   ]
  },
  {
   "cell_type": "code",
   "execution_count": null,
   "metadata": {},
   "outputs": [],
   "source": []
  }
 ],
 "metadata": {
  "kernelspec": {
   "display_name": "Python 2",
   "language": "python",
   "name": "python2"
  },
  "language_info": {
   "codemirror_mode": {
    "name": "ipython",
    "version": 2
   },
   "file_extension": ".py",
   "mimetype": "text/x-python",
   "name": "python",
   "nbconvert_exporter": "python",
   "pygments_lexer": "ipython2",
   "version": "2.7.14"
  }
 },
 "nbformat": 4,
 "nbformat_minor": 2
}
