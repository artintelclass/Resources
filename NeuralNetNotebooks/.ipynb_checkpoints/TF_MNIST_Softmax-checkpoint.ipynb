{
 "cells": [
  {
   "cell_type": "code",
   "execution_count": 30,
   "metadata": {},
   "outputs": [
    {
     "name": "stdout",
     "output_type": "stream",
     "text": [
      "Extracting /tmp/data/train-images-idx3-ubyte.gz\n",
      "Extracting /tmp/data/train-labels-idx1-ubyte.gz\n",
      "Extracting /tmp/data/t10k-images-idx3-ubyte.gz\n",
      "Extracting /tmp/data/t10k-labels-idx1-ubyte.gz\n"
     ]
    }
   ],
   "source": [
    "from __future__ import print_function\n",
    "\n",
    "# Import MNIST data\n",
    "from tensorflow.examples.tutorials.mnist import input_data\n",
    "mnist = input_data.read_data_sets(\"/tmp/data/\", one_hot=False)\n",
    "\n",
    "import tensorflow as tf\n",
    "import matplotlib.pyplot as plt\n",
    "import numpy as np\n",
    "import random"
   ]
  },
  {
   "cell_type": "code",
   "execution_count": 47,
   "metadata": {},
   "outputs": [],
   "source": [
    "# Parameters\n",
    "lr = 0.1 # learning rate\n",
    "epochs = 5\n",
    "batch_size = 100\n",
    "# calculate the number of steps based on the number of samples, batch size, and number of epochs\n",
    "num_steps = len(mnist.train.images)/batch_size * epochs \n",
    "\n",
    "# Network Parameters\n",
    "num_input = 784\n",
    "num_classes = 10 \n",
    "\n",
    "# Feature columns describe how to use the input.\n",
    "feature_columns = [tf.feature_column.numeric_column(\"x\", shape=[784])] # there is no label, so we simply use x"
   ]
  },
  {
   "cell_type": "code",
   "execution_count": 48,
   "metadata": {},
   "outputs": [],
   "source": [
    "def training_input_fn(features, labels, batch_size):\n",
    "    \"\"\"An input function for training\"\"\"\n",
    "    # Convert the inputs to a Dataset.\n",
    "    dataset = tf.data.Dataset.from_tensor_slices((dict({'x':features}), labels.astype(np.int32)))\n",
    "    # Shuffle, repeat, and batch the examples.\n",
    "    dataset = dataset.shuffle(70000).repeat().batch(batch_size)\n",
    "    # Return the dataset.\n",
    "    return dataset"
   ]
  },
  {
   "cell_type": "code",
   "execution_count": 49,
   "metadata": {},
   "outputs": [],
   "source": [
    "def neural_net(features, labels, mode, params):\n",
    "    #Input layer\n",
    "    net = tf.feature_column.input_layer(features, params['feature_columns'])\n",
    "    \n",
    "    #Hidden layers\n",
    "    for units in params['hidden_units']:\n",
    "        net = tf.layers.dense(net, units=units, activation=tf.nn.relu)\n",
    "    \n",
    "    # Output layer. Compute logits (1 per class).\n",
    "    logits = tf.layers.dense(net, params['n_classes'], activation=None)\n",
    "\n",
    "    # Compute predictions.\n",
    "    predicted_classes = tf.argmax(logits, 1) \n",
    "    ## If we're just querying, return \n",
    "    if mode == tf.estimator.ModeKeys.PREDICT:\n",
    "        predictions = {\n",
    "            'class_ids': predicted_classes[:, tf.newaxis],\n",
    "            'probabilities': tf.nn.softmax(logits),\n",
    "            'logits': logits,\n",
    "        }\n",
    "        return tf.estimator.EstimatorSpec(mode, predictions=predictions)\n",
    "\n",
    "    # Compute loss. This method does not work with one hot encoding.\n",
    "    loss = tf.losses.sparse_softmax_cross_entropy(labels=labels, logits=logits)\n",
    "\n",
    "    # Compute evaluation metrics.\n",
    "    accuracy = tf.metrics.accuracy(labels=labels,\n",
    "                                   predictions=predicted_classes,\n",
    "                                   name='acc_op')\n",
    "    metrics = {'accuracy': accuracy}\n",
    "    tf.summary.scalar('accuracy', accuracy[1])\n",
    "\n",
    "    if mode == tf.estimator.ModeKeys.EVAL:\n",
    "        return tf.estimator.EstimatorSpec(\n",
    "            mode, loss=loss, eval_metric_ops=metrics)\n",
    "\n",
    "    # Create training op.\n",
    "    assert mode == tf.estimator.ModeKeys.TRAIN\n",
    "\n",
    "    optimizer = tf.train.AdagradOptimizer(learning_rate=lr)\n",
    "    train_op = optimizer.minimize(loss, global_step=tf.train.get_global_step())\n",
    "    return tf.estimator.EstimatorSpec(mode, loss=loss, train_op=train_op)"
   ]
  },
  {
   "cell_type": "code",
   "execution_count": 50,
   "metadata": {},
   "outputs": [
    {
     "name": "stdout",
     "output_type": "stream",
     "text": [
      "INFO:tensorflow:Using default config.\n",
      "WARNING:tensorflow:Using temporary folder as model directory: /var/folders/2z/khrnj_dn3zv_t52wp04myk200000gn/T/tmp3haq7m\n",
      "INFO:tensorflow:Using config: {'_save_checkpoints_secs': 600, '_session_config': None, '_keep_checkpoint_max': 5, '_task_type': 'worker', '_is_chief': True, '_cluster_spec': <tensorflow.python.training.server_lib.ClusterSpec object at 0x1a201d3790>, '_save_checkpoints_steps': None, '_keep_checkpoint_every_n_hours': 10000, '_service': None, '_num_ps_replicas': 0, '_tf_random_seed': None, '_master': '', '_num_worker_replicas': 1, '_task_id': 0, '_log_step_count_steps': 100, '_model_dir': '/var/folders/2z/khrnj_dn3zv_t52wp04myk200000gn/T/tmp3haq7m', '_save_summary_steps': 100}\n"
     ]
    }
   ],
   "source": [
    "model = tf.estimator.Estimator(\n",
    "    model_fn=neural_net,\n",
    "    params={\n",
    "        'feature_columns': feature_columns,\n",
    "        'hidden_units': [512, 512],\n",
    "        'n_classes': 10,\n",
    "    })"
   ]
  },
  {
   "cell_type": "code",
   "execution_count": 51,
   "metadata": {},
   "outputs": [
    {
     "name": "stdout",
     "output_type": "stream",
     "text": [
      "INFO:tensorflow:Create CheckpointSaverHook.\n",
      "INFO:tensorflow:Saving checkpoints for 1 into /var/folders/2z/khrnj_dn3zv_t52wp04myk200000gn/T/tmp3haq7m/model.ckpt.\n",
      "INFO:tensorflow:loss = 2.3671117, step = 1\n",
      "INFO:tensorflow:global_step/sec: 170.651\n",
      "INFO:tensorflow:loss = 0.34499973, step = 101 (0.587 sec)\n",
      "INFO:tensorflow:global_step/sec: 197.999\n",
      "INFO:tensorflow:loss = 0.2066877, step = 201 (0.505 sec)\n",
      "INFO:tensorflow:global_step/sec: 200.762\n",
      "INFO:tensorflow:loss = 0.18132208, step = 301 (0.498 sec)\n",
      "INFO:tensorflow:global_step/sec: 197.596\n",
      "INFO:tensorflow:loss = 0.21603692, step = 401 (0.506 sec)\n",
      "INFO:tensorflow:global_step/sec: 192.448\n",
      "INFO:tensorflow:loss = 0.15912303, step = 501 (0.519 sec)\n",
      "INFO:tensorflow:global_step/sec: 161.372\n",
      "INFO:tensorflow:loss = 0.053680953, step = 601 (0.620 sec)\n",
      "INFO:tensorflow:global_step/sec: 186.859\n",
      "INFO:tensorflow:loss = 0.068752766, step = 701 (0.535 sec)\n",
      "INFO:tensorflow:global_step/sec: 174.316\n",
      "INFO:tensorflow:loss = 0.07211278, step = 801 (0.574 sec)\n",
      "INFO:tensorflow:global_step/sec: 179.114\n",
      "INFO:tensorflow:loss = 0.17430215, step = 901 (0.558 sec)\n",
      "INFO:tensorflow:global_step/sec: 168.571\n",
      "INFO:tensorflow:loss = 0.14160278, step = 1001 (0.593 sec)\n",
      "INFO:tensorflow:global_step/sec: 138.21\n",
      "INFO:tensorflow:loss = 0.13696283, step = 1101 (0.724 sec)\n",
      "INFO:tensorflow:global_step/sec: 186.858\n",
      "INFO:tensorflow:loss = 0.06491662, step = 1201 (0.535 sec)\n",
      "INFO:tensorflow:global_step/sec: 177.375\n",
      "INFO:tensorflow:loss = 0.050476313, step = 1301 (0.564 sec)\n",
      "INFO:tensorflow:global_step/sec: 181.353\n",
      "INFO:tensorflow:loss = 0.051372398, step = 1401 (0.551 sec)\n",
      "INFO:tensorflow:global_step/sec: 179.47\n",
      "INFO:tensorflow:loss = 0.08991397, step = 1501 (0.557 sec)\n",
      "INFO:tensorflow:global_step/sec: 158.201\n",
      "INFO:tensorflow:loss = 0.112694226, step = 1601 (0.633 sec)\n",
      "INFO:tensorflow:global_step/sec: 147.877\n",
      "INFO:tensorflow:loss = 0.02883184, step = 1701 (0.676 sec)\n",
      "INFO:tensorflow:global_step/sec: 182.814\n",
      "INFO:tensorflow:loss = 0.10112599, step = 1801 (0.547 sec)\n",
      "INFO:tensorflow:global_step/sec: 178.947\n",
      "INFO:tensorflow:loss = 0.11233285, step = 1901 (0.559 sec)\n",
      "INFO:tensorflow:global_step/sec: 178.194\n",
      "INFO:tensorflow:loss = 0.024599018, step = 2001 (0.561 sec)\n",
      "INFO:tensorflow:global_step/sec: 177.036\n",
      "INFO:tensorflow:loss = 0.037246708, step = 2101 (0.565 sec)\n",
      "INFO:tensorflow:global_step/sec: 144.647\n",
      "INFO:tensorflow:loss = 0.022812458, step = 2201 (0.692 sec)\n",
      "INFO:tensorflow:global_step/sec: 181.979\n",
      "INFO:tensorflow:loss = 0.10101715, step = 2301 (0.549 sec)\n",
      "INFO:tensorflow:global_step/sec: 174.98\n",
      "INFO:tensorflow:loss = 0.060647544, step = 2401 (0.571 sec)\n",
      "INFO:tensorflow:global_step/sec: 177.797\n",
      "INFO:tensorflow:loss = 0.030961046, step = 2501 (0.562 sec)\n",
      "INFO:tensorflow:global_step/sec: 174.948\n",
      "INFO:tensorflow:loss = 0.021833675, step = 2601 (0.572 sec)\n",
      "INFO:tensorflow:global_step/sec: 174.411\n",
      "INFO:tensorflow:loss = 0.01618182, step = 2701 (0.573 sec)\n",
      "INFO:tensorflow:Saving checkpoints for 2750 into /var/folders/2z/khrnj_dn3zv_t52wp04myk200000gn/T/tmp3haq7m/model.ckpt.\n",
      "INFO:tensorflow:Loss for final step: 0.009713469.\n"
     ]
    },
    {
     "data": {
      "text/plain": [
       "<tensorflow.python.estimator.estimator.Estimator at 0x10dd25810>"
      ]
     },
     "execution_count": 51,
     "metadata": {},
     "output_type": "execute_result"
    }
   ],
   "source": [
    "# Train the Model.\n",
    "model.train(lambda:training_input_fn(mnist.train.images,mnist.train.labels,batch_size),steps=num_steps)"
   ]
  },
  {
   "cell_type": "code",
   "execution_count": 39,
   "metadata": {},
   "outputs": [],
   "source": [
    "def eval_input_fn(features, labels, batch_size):\n",
    "    \"\"\"An input function for evaluation or prediction\"\"\"\n",
    " \n",
    "    features=dict({'x':features})\n",
    "    if labels is None:\n",
    "        # No labels, use only features.\n",
    "        inputs = features\n",
    "    else:\n",
    "        inputs = (features, labels.astype(np.int32))\n",
    "\n",
    "    # Convert the inputs to a Dataset.\n",
    "    dataset = tf.data.Dataset.from_tensor_slices(inputs)\n",
    "\n",
    "    # Batch the examples\n",
    "    assert batch_size is not None, \"batch_size must not be None\"\n",
    "    dataset = dataset.batch(batch_size)\n",
    "\n",
    "    # Return the dataset.\n",
    "    return dataset"
   ]
  },
  {
   "cell_type": "code",
   "execution_count": 56,
   "metadata": {},
   "outputs": [
    {
     "name": "stdout",
     "output_type": "stream",
     "text": [
      "INFO:tensorflow:Starting evaluation at 2018-03-24-13:51:27\n",
      "INFO:tensorflow:Restoring parameters from /var/folders/2z/khrnj_dn3zv_t52wp04myk200000gn/T/tmp3haq7m/model.ckpt-2750\n",
      "INFO:tensorflow:Finished evaluation at 2018-03-24-13:51:28\n",
      "INFO:tensorflow:Saving dict for global step 2750: accuracy = 0.9802, global_step = 2750, loss = 0.06205017\n",
      "\n",
      "Test set accuracy: 0.980\n",
      "\n"
     ]
    }
   ],
   "source": [
    "eval_result = model.evaluate(\n",
    "    input_fn=lambda:eval_input_fn(mnist.test.images,mnist.test.labels,batch_size))\n",
    "\n",
    "print('\\nTest set accuracy: {accuracy:0.3f}\\n'.format(**eval_result))"
   ]
  },
  {
   "cell_type": "code",
   "execution_count": 70,
   "metadata": {},
   "outputs": [
    {
     "name": "stdout",
     "output_type": "stream",
     "text": [
      "INFO:tensorflow:Restoring parameters from /var/folders/2z/khrnj_dn3zv_t52wp04myk200000gn/T/tmp3haq7m/model.ckpt-2750\n"
     ]
    },
    {
     "data": {
      "image/png": "[encoded data removed]",
      "text/plain": [
       "<matplotlib.figure.Figure at 0x1a201bf190>"
      ]
     },
     "metadata": {},
     "output_type": "display_data"
    },
    {
     "name": "stdout",
     "output_type": "stream",
     "text": [
      "Model prediction: 4\n",
      "Actual Label: 4\n"
     ]
    }
   ],
   "source": [
    "# Predict single image\n",
    "\n",
    "whichImage = random.randint(0,len(mnist.test.images))\n",
    "# Get image from test set\n",
    "test_image = mnist.test.images[whichImage].reshape(1, 784)\n",
    "\n",
    "preds = list(model.predict(input_fn=lambda:eval_input_fn(test_image,None,1)))\n",
    "\n",
    "# Display\n",
    "plt.imshow(np.reshape(test_image, [28, 28]), cmap='gray')\n",
    "plt.show()\n",
    "print(\"Model prediction:\", preds[0]['class_ids'][0])\n",
    "print(\"Actual Label:\",mnist.test.labels[whichImage])"
   ]
  },
  {
   "cell_type": "code",
   "execution_count": null,
   "metadata": {},
   "outputs": [],
   "source": []
  }
 ],
 "metadata": {
  "kernelspec": {
   "display_name": "Python 2",
   "language": "python",
   "name": "python2"
  },
  "language_info": {
   "codemirror_mode": {
    "name": "ipython",
    "version": 2
   },
   "file_extension": ".py",
   "mimetype": "text/x-python",
   "name": "python",
   "nbconvert_exporter": "python",
   "pygments_lexer": "ipython2",
   "version": "2.7.14"
  }
 },
 "nbformat": 4,
 "nbformat_minor": 2
}
