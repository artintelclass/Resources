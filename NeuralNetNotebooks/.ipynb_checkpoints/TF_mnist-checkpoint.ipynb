{
 "cells": [
  {
   "cell_type": "code",
   "execution_count": 79,
   "metadata": {},
   "outputs": [],
   "source": [
    "from __future__ import print_function\n",
    "import tensorflow as tf\n",
    "import numpy as np\n",
    "import matplotlib.pyplot as plt\n",
    "import pandas as pd\n",
    "import random\n",
    "\n",
    "%matplotlib inline"
   ]
  },
  {
   "cell_type": "code",
   "execution_count": 80,
   "metadata": {},
   "outputs": [],
   "source": [
    "# use pandas to read files\n",
    "\n",
    "# we don't have a header, and we don't want the first column to be index values\n",
    "training = pd.read_csv(\"../mnist_dataset/mnist_train.csv\", header=None, index_col=False)\n",
    "# take the first column and store as labels as numpy array\n",
    "training_labels = np.asfarray(training.iloc[:,0])\n",
    "# delete the first column and use the rest as data as numpy array\n",
    "training_features = np.asfarray(training.drop(columns=[0]))\n",
    "\n",
    "# use pandas to read file\n",
    "# we don't have a header, and we don't want the first column to be index values\n",
    "test = pd.read_csv(\"../mnist_dataset/mnist_test.csv\", header=None, index_col=False)\n",
    "# take the first column and store as labels as numpy array\n",
    "test_labels = np.asfarray(test.iloc[:,0])\n",
    "# delete the first column and use the rest as data as numpy array\n",
    "test_features = np.asfarray(test.drop(columns=[0]))"
   ]
  },
  {
   "cell_type": "code",
   "execution_count": 81,
   "metadata": {},
   "outputs": [],
   "source": [
    "feature_columns = [tf.feature_column.numeric_column(\"x\", shape=[784])]"
   ]
  },
  {
   "cell_type": "code",
   "execution_count": 82,
   "metadata": {},
   "outputs": [
    {
     "name": "stdout",
     "output_type": "stream",
     "text": [
      "INFO:tensorflow:Using default config.\n",
      "WARNING:tensorflow:Using temporary folder as model directory: /var/folders/2z/khrnj_dn3zv_t52wp04myk200000gn/T/tmpvkzGGT\n",
      "INFO:tensorflow:Using config: {'_save_checkpoints_secs': 600, '_session_config': None, '_keep_checkpoint_max': 5, '_task_type': 'worker', '_is_chief': True, '_cluster_spec': <tensorflow.python.training.server_lib.ClusterSpec object at 0x1820907a10>, '_save_checkpoints_steps': None, '_keep_checkpoint_every_n_hours': 10000, '_service': None, '_num_ps_replicas': 0, '_tf_random_seed': None, '_master': '', '_num_worker_replicas': 1, '_task_id': 0, '_log_step_count_steps': 100, '_model_dir': '/var/folders/2z/khrnj_dn3zv_t52wp04myk200000gn/T/tmpvkzGGT', '_save_summary_steps': 100}\n"
     ]
    }
   ],
   "source": [
    "# Build a DNN with 1 hidden layers and 500 nodes in the hidden layer.\n",
    "classifier = tf.estimator.DNNClassifier(\n",
    "    feature_columns=feature_columns,\n",
    "    # Three hidden layers\n",
    "    hidden_units=[512, 512],\n",
    "    optimizer=tf.train.RMSPropOptimizer(1e-4),\n",
    "    # The model must choose between 10 classes.\n",
    "    n_classes=10)"
   ]
  },
  {
   "cell_type": "code",
   "execution_count": 83,
   "metadata": {},
   "outputs": [],
   "source": [
    "# Define the training inputs\n",
    "train_input_fn = tf.estimator.inputs.numpy_input_fn(\n",
    "    x={\"x\": training_features},\n",
    "    y=training_labels.astype(np.int32),\n",
    "    num_epochs=5,\n",
    "    batch_size=100,\n",
    "    shuffle=True\n",
    ")"
   ]
  },
  {
   "cell_type": "code",
   "execution_count": 84,
   "metadata": {},
   "outputs": [
    {
     "name": "stdout",
     "output_type": "stream",
     "text": [
      "INFO:tensorflow:Create CheckpointSaverHook.\n",
      "INFO:tensorflow:Saving checkpoints for 1 into /var/folders/2z/khrnj_dn3zv_t52wp04myk200000gn/T/tmpvkzGGT/model.ckpt.\n",
      "INFO:tensorflow:loss = 8923.076, step = 1\n",
      "INFO:tensorflow:global_step/sec: 178.611\n",
      "INFO:tensorflow:loss = 283.03595, step = 101 (0.562 sec)\n",
      "INFO:tensorflow:global_step/sec: 182.075\n",
      "INFO:tensorflow:loss = 196.35085, step = 201 (0.549 sec)\n",
      "INFO:tensorflow:global_step/sec: 181.468\n",
      "INFO:tensorflow:loss = 93.924286, step = 301 (0.551 sec)\n",
      "INFO:tensorflow:global_step/sec: 179.865\n",
      "INFO:tensorflow:loss = 110.778595, step = 401 (0.556 sec)\n",
      "INFO:tensorflow:global_step/sec: 182.622\n",
      "INFO:tensorflow:loss = 94.35284, step = 501 (0.548 sec)\n",
      "INFO:tensorflow:global_step/sec: 180.464\n",
      "INFO:tensorflow:loss = 110.418655, step = 601 (0.554 sec)\n",
      "INFO:tensorflow:global_step/sec: 184.775\n",
      "INFO:tensorflow:loss = 29.855911, step = 701 (0.541 sec)\n",
      "INFO:tensorflow:global_step/sec: 182.335\n",
      "INFO:tensorflow:loss = 122.81553, step = 801 (0.549 sec)\n",
      "INFO:tensorflow:global_step/sec: 177.417\n",
      "INFO:tensorflow:loss = 40.06274, step = 901 (0.564 sec)\n",
      "INFO:tensorflow:global_step/sec: 178.861\n",
      "INFO:tensorflow:loss = 133.9892, step = 1001 (0.559 sec)\n",
      "INFO:tensorflow:global_step/sec: 166.527\n",
      "INFO:tensorflow:loss = 47.792088, step = 1101 (0.601 sec)\n",
      "INFO:tensorflow:global_step/sec: 173.828\n",
      "INFO:tensorflow:loss = 49.26864, step = 1201 (0.575 sec)\n",
      "INFO:tensorflow:global_step/sec: 166.851\n",
      "INFO:tensorflow:loss = 28.930939, step = 1301 (0.599 sec)\n",
      "INFO:tensorflow:global_step/sec: 164.593\n",
      "INFO:tensorflow:loss = 1.9079232, step = 1401 (0.608 sec)\n",
      "INFO:tensorflow:global_step/sec: 171.603\n",
      "INFO:tensorflow:loss = 25.59445, step = 1501 (0.583 sec)\n",
      "INFO:tensorflow:global_step/sec: 149.802\n",
      "INFO:tensorflow:loss = 35.257957, step = 1601 (0.668 sec)\n",
      "INFO:tensorflow:global_step/sec: 147.734\n",
      "INFO:tensorflow:loss = 19.823833, step = 1701 (0.677 sec)\n",
      "INFO:tensorflow:global_step/sec: 143.174\n",
      "INFO:tensorflow:loss = 24.638151, step = 1801 (0.698 sec)\n",
      "INFO:tensorflow:global_step/sec: 146.862\n",
      "INFO:tensorflow:loss = 52.218063, step = 1901 (0.681 sec)\n",
      "INFO:tensorflow:global_step/sec: 155.119\n",
      "INFO:tensorflow:loss = 40.224483, step = 2001 (0.645 sec)\n",
      "INFO:tensorflow:global_step/sec: 149.641\n",
      "INFO:tensorflow:loss = 3.0476415, step = 2101 (0.669 sec)\n",
      "INFO:tensorflow:global_step/sec: 157.018\n",
      "INFO:tensorflow:loss = 13.238264, step = 2201 (0.636 sec)\n",
      "INFO:tensorflow:global_step/sec: 144.077\n",
      "INFO:tensorflow:loss = 4.2514124, step = 2301 (0.694 sec)\n",
      "INFO:tensorflow:global_step/sec: 151.541\n",
      "INFO:tensorflow:loss = 31.714184, step = 2401 (0.660 sec)\n",
      "INFO:tensorflow:global_step/sec: 142.235\n",
      "INFO:tensorflow:loss = 7.7971325, step = 2501 (0.703 sec)\n",
      "INFO:tensorflow:global_step/sec: 142.871\n",
      "INFO:tensorflow:loss = 41.743916, step = 2601 (0.700 sec)\n",
      "INFO:tensorflow:global_step/sec: 132.118\n",
      "INFO:tensorflow:loss = 6.963586, step = 2701 (0.757 sec)\n",
      "INFO:tensorflow:global_step/sec: 143.511\n",
      "INFO:tensorflow:loss = 0.10971358, step = 2801 (0.697 sec)\n",
      "INFO:tensorflow:global_step/sec: 153.874\n",
      "INFO:tensorflow:loss = 2.2559488, step = 2901 (0.650 sec)\n",
      "INFO:tensorflow:Saving checkpoints for 3000 into /var/folders/2z/khrnj_dn3zv_t52wp04myk200000gn/T/tmpvkzGGT/model.ckpt.\n",
      "INFO:tensorflow:Loss for final step: 21.671202.\n"
     ]
    },
    {
     "data": {
      "text/plain": [
       "<tensorflow.python.estimator.canned.dnn.DNNClassifier at 0x18208ae6d0>"
      ]
     },
     "execution_count": 84,
     "metadata": {},
     "output_type": "execute_result"
    }
   ],
   "source": [
    "classifier.train(input_fn=train_input_fn)"
   ]
  },
  {
   "cell_type": "code",
   "execution_count": 85,
   "metadata": {},
   "outputs": [],
   "source": [
    "# Define the test inputs\n",
    "test_input_fn = tf.estimator.inputs.numpy_input_fn(\n",
    "    x={\"x\": test_features},\n",
    "    y=test_labels.astype(np.int32),\n",
    "    num_epochs=1,\n",
    "    shuffle=False\n",
    ")"
   ]
  },
  {
   "cell_type": "code",
   "execution_count": 86,
   "metadata": {},
   "outputs": [
    {
     "name": "stdout",
     "output_type": "stream",
     "text": [
      "INFO:tensorflow:Starting evaluation at 2018-03-24-12:39:26\n",
      "INFO:tensorflow:Restoring parameters from /var/folders/2z/khrnj_dn3zv_t52wp04myk200000gn/T/tmpvkzGGT/model.ckpt-3000\n",
      "INFO:tensorflow:Finished evaluation at 2018-03-24-12:39:27\n",
      "INFO:tensorflow:Saving dict for global step 3000: accuracy = 0.9502, average_loss = 0.8739936, global_step = 3000, loss = 110.632095\n",
      "\n",
      "Test Accuracy: 95.02%\n",
      "\n"
     ]
    }
   ],
   "source": [
    "accuracy_score = classifier.evaluate(input_fn=test_input_fn)[\"accuracy\"]\n",
    "print(\"\\nTest Accuracy: {0:.2f}%\\n\".format(accuracy_score*100))"
   ]
  },
  {
   "cell_type": "code",
   "execution_count": 87,
   "metadata": {},
   "outputs": [
    {
     "name": "stdout",
     "output_type": "stream",
     "text": [
      "INFO:tensorflow:Restoring parameters from /var/folders/2z/khrnj_dn3zv_t52wp04myk200000gn/T/tmpvkzGGT/model.ckpt-3000\n"
     ]
    },
    {
     "data": {
      "image/png": "[encoded data removed]",
      "text/plain": [
       "<matplotlib.figure.Figure at 0x1820875d90>"
      ]
     },
     "metadata": {},
     "output_type": "display_data"
    },
    {
     "name": "stdout",
     "output_type": "stream",
     "text": [
      "Model prediction: 1\n",
      "Labeled: 1\n"
     ]
    }
   ],
   "source": [
    "# Predict single image\n",
    "\n",
    "whichImage = random.randint(0,len(test_features))\n",
    "# Get image from test set\n",
    "test_image = test_features[whichImage].reshape(1, 784)\n",
    "\n",
    "# Prepare the input data\n",
    "input_fn = tf.estimator.inputs.numpy_input_fn(\n",
    "    x={'x': test_image}, shuffle=False)\n",
    "\n",
    "# Use the model to predict the images class\n",
    "preds = list(classifier.predict(input_fn))\n",
    "\n",
    "# Display\n",
    "plt.imshow(np.reshape(test_image, [28, 28]), cmap='gray')\n",
    "plt.show()\n",
    "\n",
    "p = int(preds[0]['classes'][0])\n",
    "print(\"Model prediction:\", p)\n",
    "print(\"Labeled:\",test_labels[whichImage].astype(np.int32))"
   ]
  },
  {
   "cell_type": "code",
   "execution_count": null,
   "metadata": {},
   "outputs": [],
   "source": []
  }
 ],
 "metadata": {
  "kernelspec": {
   "display_name": "Python 2",
   "language": "python",
   "name": "python2"
  },
  "language_info": {
   "codemirror_mode": {
    "name": "ipython",
    "version": 2
   },
   "file_extension": ".py",
   "mimetype": "text/x-python",
   "name": "python",
   "nbconvert_exporter": "python",
   "pygments_lexer": "ipython2",
   "version": "2.7.14"
  }
 },
 "nbformat": 4,
 "nbformat_minor": 1
}
