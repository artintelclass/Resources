{
 "cells": [
  {
   "cell_type": "code",
   "execution_count": 9,
   "metadata": {},
   "outputs": [
    {
     "name": "stdout",
     "output_type": "stream",
     "text": [
      "Extracting /tmp/data/train-images-idx3-ubyte.gz\n",
      "Extracting /tmp/data/train-labels-idx1-ubyte.gz\n",
      "Extracting /tmp/data/t10k-images-idx3-ubyte.gz\n",
      "Extracting /tmp/data/t10k-labels-idx1-ubyte.gz\n"
     ]
    }
   ],
   "source": [
    "from __future__ import print_function\n",
    "\n",
    "# Import MNIST data\n",
    "from tensorflow.examples.tutorials.mnist import input_data\n",
    "mnist = input_data.read_data_sets(\"/tmp/data/\", one_hot=False)\n",
    "\n",
    "import tensorflow as tf\n",
    "import matplotlib.pyplot as plt\n",
    "import numpy as np\n",
    "import random"
   ]
  },
  {
   "cell_type": "code",
   "execution_count": 61,
   "metadata": {},
   "outputs": [],
   "source": [
    "# Parameters\n",
    "lr = 0.1 # learning rate\n",
    "epochs = 6\n",
    "batch_size = 100\n",
    "# calculate the number of steps based on the number of samples, batch size, and number of epochs\n",
    "num_steps = len(mnist.train.images)/batch_size * epochs \n",
    "\n",
    "# Network Parameters\n",
    "num_input = 784\n",
    "num_classes = 10 \n",
    "\n",
    "# Feature columns describe how to use the input.\n",
    "feature_columns = [tf.feature_column.numeric_column(\"x\", shape=[784])] # there is no label, so we simply use x"
   ]
  },
  {
   "cell_type": "code",
   "execution_count": 62,
   "metadata": {},
   "outputs": [],
   "source": [
    "def training_input_fn(features, labels, batch_size):\n",
    "    \"\"\"An input function for training\"\"\"\n",
    "    # Convert the inputs to a Dataset.\n",
    "    dataset = tf.data.Dataset.from_tensor_slices((dict({'x':features}), labels.astype(np.int32)))\n",
    "    # Shuffle, repeat, and batch the examples.\n",
    "    dataset = dataset.shuffle(70000).repeat().batch(batch_size)\n",
    "    # Return the dataset.\n",
    "    return dataset"
   ]
  },
  {
   "cell_type": "code",
   "execution_count": 63,
   "metadata": {},
   "outputs": [],
   "source": [
    "def neural_net(features, labels, mode, params):\n",
    "    #Input layer\n",
    "    net = tf.feature_column.input_layer(features, params['feature_columns'])\n",
    "    \n",
    "    #Hidden layers\n",
    "    for units in params['hidden_units']:\n",
    "        net = tf.layers.dense(net, units=units, activation=tf.nn.relu)\n",
    "    \n",
    "    # Output layer. Compute logits (1 per class).\n",
    "    logits = tf.layers.dense(net, params['n_classes'], activation=None)\n",
    "\n",
    "    # Compute predictions.\n",
    "    predicted_classes = tf.argmax(logits, 1) \n",
    "    ## If we're just querying, return \n",
    "    if mode == tf.estimator.ModeKeys.PREDICT:\n",
    "        predictions = {\n",
    "            'class_ids': predicted_classes[:, tf.newaxis],\n",
    "            'probabilities': tf.nn.softmax(logits),\n",
    "            'logits': logits,\n",
    "        }\n",
    "        return tf.estimator.EstimatorSpec(mode, predictions=predictions)\n",
    "\n",
    "    # Compute loss.\n",
    "    loss = tf.losses.sparse_softmax_cross_entropy(labels=labels, logits=logits)\n",
    "\n",
    "    # Compute evaluation metrics.\n",
    "    accuracy = tf.metrics.accuracy(labels=labels,\n",
    "                                   predictions=predicted_classes,\n",
    "                                   name='acc_op')\n",
    "    metrics = {'accuracy': accuracy}\n",
    "    tf.summary.scalar('accuracy', accuracy[1])\n",
    "\n",
    "    if mode == tf.estimator.ModeKeys.EVAL:\n",
    "        return tf.estimator.EstimatorSpec(\n",
    "            mode, loss=loss, eval_metric_ops=metrics)\n",
    "\n",
    "    # Create training op.\n",
    "    assert mode == tf.estimator.ModeKeys.TRAIN\n",
    "\n",
    "    optimizer = tf.train.AdagradOptimizer(learning_rate=lr)\n",
    "    train_op = optimizer.minimize(loss, global_step=tf.train.get_global_step())\n",
    "    return tf.estimator.EstimatorSpec(mode, loss=loss, train_op=train_op)"
   ]
  },
  {
   "cell_type": "code",
   "execution_count": 64,
   "metadata": {},
   "outputs": [
    {
     "name": "stdout",
     "output_type": "stream",
     "text": [
      "INFO:tensorflow:Using default config.\n",
      "WARNING:tensorflow:Using temporary folder as model directory: /var/folders/2z/khrnj_dn3zv_t52wp04myk200000gn/T/tmpFoE4JV\n",
      "INFO:tensorflow:Using config: {'_save_checkpoints_secs': 600, '_session_config': None, '_keep_checkpoint_max': 5, '_task_type': 'worker', '_is_chief': True, '_cluster_spec': <tensorflow.python.training.server_lib.ClusterSpec object at 0x1a1f3b8590>, '_save_checkpoints_steps': None, '_keep_checkpoint_every_n_hours': 10000, '_service': None, '_num_ps_replicas': 0, '_tf_random_seed': None, '_master': '', '_num_worker_replicas': 1, '_task_id': 0, '_log_step_count_steps': 100, '_model_dir': '/var/folders/2z/khrnj_dn3zv_t52wp04myk200000gn/T/tmpFoE4JV', '_save_summary_steps': 100}\n"
     ]
    }
   ],
   "source": [
    "model = tf.estimator.Estimator(\n",
    "    model_fn=neural_net,\n",
    "    params={\n",
    "        'feature_columns': feature_columns,\n",
    "        'hidden_units': [512, 512],\n",
    "        'n_classes': 10,\n",
    "    })"
   ]
  },
  {
   "cell_type": "code",
   "execution_count": 65,
   "metadata": {},
   "outputs": [
    {
     "name": "stdout",
     "output_type": "stream",
     "text": [
      "INFO:tensorflow:Create CheckpointSaverHook.\n",
      "INFO:tensorflow:Saving checkpoints for 1 into /var/folders/2z/khrnj_dn3zv_t52wp04myk200000gn/T/tmpFoE4JV/model.ckpt.\n",
      "INFO:tensorflow:loss = 2.282632, step = 1\n",
      "INFO:tensorflow:global_step/sec: 148.704\n",
      "INFO:tensorflow:loss = 0.2859108, step = 101 (0.674 sec)\n",
      "INFO:tensorflow:global_step/sec: 187.92\n",
      "INFO:tensorflow:loss = 0.3261734, step = 201 (0.532 sec)\n",
      "INFO:tensorflow:global_step/sec: 173.332\n",
      "INFO:tensorflow:loss = 0.14059903, step = 301 (0.577 sec)\n",
      "INFO:tensorflow:global_step/sec: 151.296\n",
      "INFO:tensorflow:loss = 0.07641499, step = 401 (0.661 sec)\n",
      "INFO:tensorflow:global_step/sec: 171.676\n",
      "INFO:tensorflow:loss = 0.118371524, step = 501 (0.583 sec)\n",
      "INFO:tensorflow:global_step/sec: 146.414\n",
      "INFO:tensorflow:loss = 0.05634487, step = 601 (0.683 sec)\n",
      "INFO:tensorflow:global_step/sec: 182.518\n",
      "INFO:tensorflow:loss = 0.081746906, step = 701 (0.548 sec)\n",
      "INFO:tensorflow:global_step/sec: 167.241\n",
      "INFO:tensorflow:loss = 0.04350826, step = 801 (0.598 sec)\n",
      "INFO:tensorflow:global_step/sec: 165.201\n",
      "INFO:tensorflow:loss = 0.059295807, step = 901 (0.606 sec)\n",
      "INFO:tensorflow:global_step/sec: 163.64\n",
      "INFO:tensorflow:loss = 0.057861667, step = 1001 (0.611 sec)\n",
      "INFO:tensorflow:global_step/sec: 110.251\n",
      "INFO:tensorflow:loss = 0.023452697, step = 1101 (0.907 sec)\n",
      "INFO:tensorflow:global_step/sec: 152.249\n",
      "INFO:tensorflow:loss = 0.066444986, step = 1201 (0.657 sec)\n",
      "INFO:tensorflow:global_step/sec: 170.623\n",
      "INFO:tensorflow:loss = 0.04485665, step = 1301 (0.586 sec)\n",
      "INFO:tensorflow:global_step/sec: 173.551\n",
      "INFO:tensorflow:loss = 0.1101482, step = 1401 (0.576 sec)\n",
      "INFO:tensorflow:global_step/sec: 166.819\n",
      "INFO:tensorflow:loss = 0.03937001, step = 1501 (0.600 sec)\n",
      "INFO:tensorflow:global_step/sec: 152.096\n",
      "INFO:tensorflow:loss = 0.028668692, step = 1601 (0.657 sec)\n",
      "INFO:tensorflow:global_step/sec: 132.242\n",
      "INFO:tensorflow:loss = 0.047073297, step = 1701 (0.756 sec)\n",
      "INFO:tensorflow:global_step/sec: 159.92\n",
      "INFO:tensorflow:loss = 0.017308628, step = 1801 (0.625 sec)\n",
      "INFO:tensorflow:global_step/sec: 157.546\n",
      "INFO:tensorflow:loss = 0.03708192, step = 1901 (0.635 sec)\n",
      "INFO:tensorflow:global_step/sec: 157.697\n",
      "INFO:tensorflow:loss = 0.02946179, step = 2001 (0.634 sec)\n",
      "INFO:tensorflow:global_step/sec: 138.983\n",
      "INFO:tensorflow:loss = 0.02111197, step = 2101 (0.720 sec)\n",
      "INFO:tensorflow:global_step/sec: 129.773\n",
      "INFO:tensorflow:loss = 0.012055074, step = 2201 (0.770 sec)\n",
      "INFO:tensorflow:global_step/sec: 165.525\n",
      "INFO:tensorflow:loss = 0.035022415, step = 2301 (0.604 sec)\n",
      "INFO:tensorflow:global_step/sec: 166.363\n",
      "INFO:tensorflow:loss = 0.013534649, step = 2401 (0.601 sec)\n",
      "INFO:tensorflow:global_step/sec: 161.957\n",
      "INFO:tensorflow:loss = 0.038360782, step = 2501 (0.617 sec)\n",
      "INFO:tensorflow:global_step/sec: 154.64\n",
      "INFO:tensorflow:loss = 0.069491014, step = 2601 (0.647 sec)\n",
      "INFO:tensorflow:global_step/sec: 160.632\n",
      "INFO:tensorflow:loss = 0.012489293, step = 2701 (0.623 sec)\n",
      "INFO:tensorflow:global_step/sec: 143.585\n",
      "INFO:tensorflow:loss = 0.00832703, step = 2801 (0.697 sec)\n",
      "INFO:tensorflow:global_step/sec: 151.906\n",
      "INFO:tensorflow:loss = 0.0074943257, step = 2901 (0.658 sec)\n",
      "INFO:tensorflow:global_step/sec: 153.923\n",
      "INFO:tensorflow:loss = 0.026023345, step = 3001 (0.649 sec)\n",
      "INFO:tensorflow:global_step/sec: 161.599\n",
      "INFO:tensorflow:loss = 0.022786155, step = 3101 (0.619 sec)\n",
      "INFO:tensorflow:global_step/sec: 163.05\n",
      "INFO:tensorflow:loss = 0.013050613, step = 3201 (0.613 sec)\n",
      "INFO:tensorflow:Saving checkpoints for 3300 into /var/folders/2z/khrnj_dn3zv_t52wp04myk200000gn/T/tmpFoE4JV/model.ckpt.\n",
      "INFO:tensorflow:Loss for final step: 0.01945538.\n"
     ]
    },
    {
     "data": {
      "text/plain": [
       "<tensorflow.python.estimator.estimator.Estimator at 0x1a1f3b8390>"
      ]
     },
     "execution_count": 65,
     "metadata": {},
     "output_type": "execute_result"
    }
   ],
   "source": [
    "# Train the Model.\n",
    "model.train(lambda:training_input_fn(mnist.train.images,mnist.train.labels,batch_size),steps=num_steps)"
   ]
  },
  {
   "cell_type": "code",
   "execution_count": 66,
   "metadata": {},
   "outputs": [],
   "source": [
    "def eval_input_fn(features, labels, batch_size):\n",
    "    \"\"\"An input function for evaluation or prediction\"\"\"\n",
    " \n",
    "    features=dict({'x':features})\n",
    "    if labels is None:\n",
    "        # No labels, use only features.\n",
    "        inputs = features\n",
    "    else:\n",
    "        inputs = (features, labels.astype(np.int32))\n",
    "\n",
    "    # Convert the inputs to a Dataset.\n",
    "    dataset = tf.data.Dataset.from_tensor_slices(inputs)\n",
    "\n",
    "    # Batch the examples\n",
    "    assert batch_size is not None, \"batch_size must not be None\"\n",
    "    dataset = dataset.batch(batch_size)\n",
    "\n",
    "    # Return the dataset.\n",
    "    return dataset"
   ]
  },
  {
   "cell_type": "code",
   "execution_count": 67,
   "metadata": {},
   "outputs": [
    {
     "name": "stdout",
     "output_type": "stream",
     "text": [
      "INFO:tensorflow:Starting evaluation at 2018-03-24-15:15:46\n",
      "INFO:tensorflow:Restoring parameters from /var/folders/2z/khrnj_dn3zv_t52wp04myk200000gn/T/tmpFoE4JV/model.ckpt-3300\n",
      "INFO:tensorflow:Finished evaluation at 2018-03-24-15:15:47\n",
      "INFO:tensorflow:Saving dict for global step 3300: accuracy = 0.9802, global_step = 3300, loss = 0.06101506\n",
      "\n",
      "Test set accuracy: 98.02%\n",
      "\n"
     ]
    }
   ],
   "source": [
    "eval_result = model.evaluate(\n",
    "    input_fn=lambda:eval_input_fn(mnist.test.images,mnist.test.labels,batch_size))\n",
    "\n",
    "acc=eval_result[\"accuracy\"]\n",
    "print('\\nTest set accuracy: {0:0.2f}%\\n'.format(acc*100))"
   ]
  },
  {
   "cell_type": "code",
   "execution_count": 68,
   "metadata": {},
   "outputs": [
    {
     "name": "stdout",
     "output_type": "stream",
     "text": [
      "INFO:tensorflow:Restoring parameters from /var/folders/2z/khrnj_dn3zv_t52wp04myk200000gn/T/tmpFoE4JV/model.ckpt-3300\n"
     ]
    },
    {
     "data": {
      "image/png": "[encoded data removed]",
      "text/plain": [
       "<matplotlib.figure.Figure at 0x1a1f7f82d0>"
      ]
     },
     "metadata": {},
     "output_type": "display_data"
    },
    {
     "name": "stdout",
     "output_type": "stream",
     "text": [
      "Model prediction: 4\n",
      "Actual Label: 4\n"
     ]
    }
   ],
   "source": [
    "# Predict single image\n",
    "\n",
    "whichImage = random.randint(0,len(mnist.test.images))\n",
    "# Get image from test set\n",
    "test_image = mnist.test.images[whichImage].reshape(1, 784)\n",
    "\n",
    "preds = list(model.predict(input_fn=lambda:eval_input_fn(test_image,None,1)))\n",
    "\n",
    "# Display\n",
    "plt.imshow(np.reshape(test_image, [28, 28]), cmap='gray')\n",
    "plt.show()\n",
    "print(\"Model prediction:\", preds[0]['class_ids'][0])\n",
    "print(\"Actual Label:\",mnist.test.labels[whichImage])"
   ]
  },
  {
   "cell_type": "code",
   "execution_count": null,
   "metadata": {},
   "outputs": [],
   "source": []
  }
 ],
 "metadata": {
  "kernelspec": {
   "display_name": "Python 2",
   "language": "python",
   "name": "python2"
  },
  "language_info": {
   "codemirror_mode": {
    "name": "ipython",
    "version": 2
   },
   "file_extension": ".py",
   "mimetype": "text/x-python",
   "name": "python",
   "nbconvert_exporter": "python",
   "pygments_lexer": "ipython2",
   "version": "2.7.14"
  }
 },
 "nbformat": 4,
 "nbformat_minor": 2
}
