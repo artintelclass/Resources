{
 "cells": [
  {
   "cell_type": "code",
   "execution_count": 146,
   "metadata": {},
   "outputs": [
    {
     "name": "stdout",
     "output_type": "stream",
     "text": [
      "_________________________________________________________________\n",
      "Layer (type)                 Output Shape              Param #   \n",
      "=================================================================\n",
      "dense_123 (Dense)            (None, 200)               156800    \n",
      "_________________________________________________________________\n",
      "dense_124 (Dense)            (None, 10)                2000      \n",
      "=================================================================\n",
      "Total params: 158,800\n",
      "Trainable params: 158,800\n",
      "Non-trainable params: 0\n",
      "_________________________________________________________________\n",
      "Train on 60000 samples, validate on 10000 samples\n",
      "Epoch 1/5\n",
      "60000/60000 [==============================] - 89s 1ms/step - loss: 0.0265 - acc: 0.8521 - val_loss: 0.0175 - val_acc: 0.8985\n",
      "Epoch 2/5\n",
      "60000/60000 [==============================] - 104s 2ms/step - loss: 0.0156 - acc: 0.9119 - val_loss: 0.0141 - val_acc: 0.9178\n",
      "Epoch 3/5\n",
      "60000/60000 [==============================] - 101s 2ms/step - loss: 0.0131 - acc: 0.9250 - val_loss: 0.0120 - val_acc: 0.9299\n",
      "Epoch 4/5\n",
      "60000/60000 [==============================] - 98s 2ms/step - loss: 0.0114 - acc: 0.9344 - val_loss: 0.0107 - val_acc: 0.9372\n",
      "Epoch 5/5\n",
      "60000/60000 [==============================] - 103s 2ms/step - loss: 0.0102 - acc: 0.9414 - val_loss: 0.0097 - val_acc: 0.9419\n",
      "Test loss: 0.009681737544760108\n",
      "Test accuracy: 0.9419\n"
     ]
    }
   ],
   "source": [
    "from __future__ import print_function\n",
    "\n",
    "import tensorflow.contrib.keras as keras\n",
    "from keras.datasets import mnist\n",
    "from keras.models import Sequential\n",
    "from keras.layers import Dense\n",
    "from keras import initializers\n",
    "from keras.optimizers import SGD\n",
    "\n",
    "batch_size = 1\n",
    "num_classes = 10\n",
    "epochs = 5\n",
    "num_input_nodes = 784\n",
    "num_hidden_nodes = 200\n",
    "learning_rate = 0.1\n",
    "\n",
    "# the data, split between train and test sets\n",
    "(x_train, y_train), (x_test, y_test) = mnist.load_data()\n",
    "\n",
    "x_train = x_train.reshape(60000, 784)\n",
    "x_test = x_test.reshape(10000, 784)\n",
    "x_train = x_train.astype('float32')\n",
    "x_test = x_test.astype('float32')\n",
    "x_train = (x_train/255.0*.99)+.01\n",
    "x_test = (x_test/255.0*.99)+.01\n",
    "\n",
    "# convert class vectors to binary class matrices\n",
    "y_train = keras.utils.to_categorical(y_train, num_classes)\n",
    "y_test = keras.utils.to_categorical(y_test, num_classes)\n",
    "\n",
    "# convert to padded labels\n",
    "for j in range(len(y_train)):\n",
    "    for i, y in enumerate(y_train[j]):\n",
    "        if (y_train[j][i]==1.0):\n",
    "            y_train[j][i]=.99\n",
    "        else:\n",
    "            y_train[j][i]=.01\n",
    "for j in range(len(y_test)):\n",
    "    for i, y in enumerate(y_test[j]):\n",
    "        if (y_test[j][i]==1.0):\n",
    "            y_test[j][i]=.99\n",
    "        else:\n",
    "            y_test[j][i]=.01\n",
    "\n",
    "model = Sequential()\n",
    "model.add(Dense(num_hidden_nodes, activation='sigmoid', input_shape=(num_input_nodes,), use_bias=False))\n",
    "model.add(Dense(num_classes, activation='sigmoid', use_bias=False))\n",
    "#kernel_initializer=initializers.RandomNormal(mean=0.0, stddev=pow(784, -0.5), seed=None)\n",
    "\n",
    "model.summary()\n",
    "\n",
    "model.compile(loss='mean_squared_error',\n",
    "              optimizer=SGD(lr=learning_rate),#'RMSProp',\n",
    "              metrics=['accuracy'])\n",
    "\n",
    "history = model.fit(x_train, y_train,\n",
    "                    batch_size=batch_size,\n",
    "                    epochs=epochs,\n",
    "                    verbose=1,\n",
    "                    validation_data=(x_test, y_test),\n",
    "                    shuffle=False)\n",
    "score = model.evaluate(x_test, y_test, verbose=0)\n",
    "print('Test loss:', score[0])\n",
    "print('Test accuracy:', score[1])"
   ]
  },
  {
   "cell_type": "code",
   "execution_count": 129,
   "metadata": {},
   "outputs": [],
   "source": [
    "(x_train_, y_train_), (x_test_, y_test_) = mnist.load_data()\n",
    "import random"
   ]
  },
  {
   "cell_type": "code",
   "execution_count": 163,
   "metadata": {},
   "outputs": [
    {
     "name": "stdout",
     "output_type": "stream",
     "text": [
      "Prediction: 7 Label: 7\n"
     ]
    },
    {
     "data": {
      "text/plain": [
       "7"
      ]
     },
     "execution_count": 163,
     "metadata": {},
     "output_type": "execute_result"
    }
   ],
   "source": [
    "randomDigit = random.randint(0,len(x_test))\n",
    "\n",
    "prediction = model.predict_classes(np.array([x_test[randomDigit]]))\n",
    "print(\"Prediction:\",prediction[0],\"Label:\", y_test_[randomDigit])\n",
    "y_test_[randomDigit]"
   ]
  },
  {
   "cell_type": "code",
   "execution_count": null,
   "metadata": {},
   "outputs": [],
   "source": []
  }
 ],
 "metadata": {
  "kernelspec": {
   "display_name": "Python 2",
   "language": "python",
   "name": "python2"
  },
  "language_info": {
   "codemirror_mode": {
    "name": "ipython",
    "version": 2
   },
   "file_extension": ".py",
   "mimetype": "text/x-python",
   "name": "python",
   "nbconvert_exporter": "python",
   "pygments_lexer": "ipython2",
   "version": "2.7.14"
  }
 },
 "nbformat": 4,
 "nbformat_minor": 2
}
