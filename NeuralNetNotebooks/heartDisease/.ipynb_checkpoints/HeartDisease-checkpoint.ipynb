{
 "cells": [
  {
   "cell_type": "code",
   "execution_count": 1,
   "metadata": {},
   "outputs": [
    {
     "name": "stderr",
     "output_type": "stream",
     "text": [
      "Using TensorFlow backend.\n"
     ]
    }
   ],
   "source": [
    "from __future__ import print_function\n",
    "import tensorflow.contrib.keras as keras\n",
    "from keras.models import Sequential\n",
    "from keras.layers import Dense, Dropout\n",
    "from keras.optimizers import Adadelta\n",
    "from keras.models import load_model\n",
    "import numpy as np\n",
    "import pandas as pd\n",
    "import random"
   ]
  },
  {
   "cell_type": "code",
   "execution_count": 24,
   "metadata": {},
   "outputs": [],
   "source": [
    "# Set Parameters\n",
    "batch_size = 10\n",
    "num_classes = 5\n",
    "epochs = 1000"
   ]
  },
  {
   "cell_type": "code",
   "execution_count": 25,
   "metadata": {},
   "outputs": [],
   "source": [
    "# Load and treat data\n",
    "# using heart data from here: http://fizyka.umk.pl/kis-old/projects/datasets.html#Cleveland\n",
    "\n",
    "training = pd.read_csv(\"processed.cleveland.data.csv\", header=None, index_col=False)\n",
    "\n",
    "# take the first column and store as labels as numpy array\n",
    "labels = np.asfarray(training.iloc[:,13])\n",
    "# delete the first column and use the rest as data as numpy array\n",
    "features = np.asfarray(training.drop(columns=[13]))\n",
    "\n",
    "#slice the features and labels into training and testing groups\n",
    "x_train=features[0:250,0:14] # first 250 examples are for training\n",
    "x_test=features[250:303,0:14] # the rest (53) examples are for testing\n",
    "training_labels=labels[0:250]\n",
    "test_labels=labels[250:303]\n",
    "#convert to 2 classes\n",
    "training_labels=np.clip(training_labels,0,1)\n",
    "test_labels=np.clip(test_labels,0,1)\n",
    "\n",
    "# convert class vectors to binary class matrices\n",
    "y_train = keras.utils.to_categorical(training_labels, num_classes)\n",
    "y_test = keras.utils.to_categorical(test_labels, num_classes)"
   ]
  },
  {
   "cell_type": "code",
   "execution_count": 32,
   "metadata": {
    "scrolled": true
   },
   "outputs": [
    {
     "name": "stdout",
     "output_type": "stream",
     "text": [
      "_________________________________________________________________\n",
      "Layer (type)                 Output Shape              Param #   \n",
      "=================================================================\n",
      "dense_25 (Dense)             (None, 128)               1792      \n",
      "_________________________________________________________________\n",
      "dropout_19 (Dropout)         (None, 128)               0         \n",
      "_________________________________________________________________\n",
      "dense_26 (Dense)             (None, 128)               16512     \n",
      "_________________________________________________________________\n",
      "dropout_20 (Dropout)         (None, 128)               0         \n",
      "_________________________________________________________________\n",
      "dense_27 (Dense)             (None, 128)               16512     \n",
      "_________________________________________________________________\n",
      "dropout_21 (Dropout)         (None, 128)               0         \n",
      "_________________________________________________________________\n",
      "dense_28 (Dense)             (None, 5)                 645       \n",
      "=================================================================\n",
      "Total params: 35,461\n",
      "Trainable params: 35,461\n",
      "Non-trainable params: 0\n",
      "_________________________________________________________________\n"
     ]
    }
   ],
   "source": [
    "# Define the model\n",
    "model = Sequential()\n",
    "model.add(Dense(128, activation='relu', input_shape=(13,)))\n",
    "model.add(Dropout(0.5))\n",
    "model.add(Dense(128, activation='relu'))\n",
    "model.add(Dropout(0.5))\n",
    "model.add(Dense(128, activation='relu'))\n",
    "model.add(Dropout(0.5))\n",
    "model.add(Dense(num_classes, activation='softmax'))\n",
    "\n",
    "model.summary()\n",
    "\n",
    "model.compile(loss='binary_crossentropy',\n",
    "              optimizer=Adadelta(),\n",
    "              metrics=['accuracy'])"
   ]
  },
  {
   "cell_type": "code",
   "execution_count": 33,
   "metadata": {},
   "outputs": [
    {
     "name": "stdout",
     "output_type": "stream",
     "text": [
      "53/53 [==============================] - 0s 65us/step\n",
      "Test loss: 0.339302209751\n",
      "Test accuracy: 0.901886751067\n"
     ]
    }
   ],
   "source": [
    "# Train\n",
    "history = model.fit(x_train, y_train,\n",
    "                    batch_size=batch_size,\n",
    "                    epochs=epochs,\n",
    "                    verbose=0,\n",
    "                    validation_data=(x_test, y_test))\n",
    "score = model.evaluate(x_test, y_test, verbose=1)\n",
    "print('Test loss:', score[0])\n",
    "print('Test accuracy:', score[1])"
   ]
  },
  {
   "cell_type": "code",
   "execution_count": 14,
   "metadata": {},
   "outputs": [],
   "source": [
    "model.save('heartModel.h5')"
   ]
  },
  {
   "cell_type": "code",
   "execution_count": 7,
   "metadata": {},
   "outputs": [
    {
     "name": "stdout",
     "output_type": "stream",
     "text": [
      "Test loss: 0.363480799041\n",
      "Test accuracy: 0.909433949668\n"
     ]
    }
   ],
   "source": [
    "model = load_model('heartModel.h5')\n",
    "score = model.evaluate(x_test, y_test, verbose=0)\n",
    "print('Test loss:', score[0])\n",
    "print('Test accuracy:', score[1])"
   ]
  },
  {
   "cell_type": "code",
   "execution_count": 13,
   "metadata": {},
   "outputs": [
    {
     "name": "stdout",
     "output_type": "stream",
     "text": [
      "Keep eating right and exercising, you're healthy!\n",
      "Prediction: 0\n",
      "Label: 0\n"
     ]
    }
   ],
   "source": [
    "# Query\n",
    "randomDigit = random.randint(0,len(x_test)-1)\n",
    "\n",
    "prediction = model.predict_classes(np.array([x_test[randomDigit]]))\n",
    "if (prediction[0]==y_test[randomDigit].argmax()):\n",
    "    if (prediction[0]==1):\n",
    "        print(\"There is a good chance this patient has heart disease\")\n",
    "    else:\n",
    "        print(\"Keep eating right and exercising, you're healthy!\")\n",
    "else:\n",
    "    print(\"Label and prediction don't match!\")\n",
    "print(\"Prediction:\",prediction[0])\n",
    "print(\"Label:\", y_test[randomDigit].argmax())"
   ]
  },
  {
   "cell_type": "code",
   "execution_count": 14,
   "metadata": {},
   "outputs": [
    {
     "data": {
      "text/plain": [
       "array([[  47.,    1.,    3.,  130.,  253.,    0.,    0.,  179.,    0.,\n",
       "           0.,    1.,    0.,    3.]])"
      ]
     },
     "execution_count": 14,
     "metadata": {},
     "output_type": "execute_result"
    }
   ],
   "source": [
    "np.array([x_test[randomDigit]])"
   ]
  },
  {
   "cell_type": "code",
   "execution_count": null,
   "metadata": {},
   "outputs": [],
   "source": []
  }
 ],
 "metadata": {
  "kernelspec": {
   "display_name": "Python 2",
   "language": "python",
   "name": "python2"
  },
  "language_info": {
   "codemirror_mode": {
    "name": "ipython",
    "version": 2
   },
   "file_extension": ".py",
   "mimetype": "text/x-python",
   "name": "python",
   "nbconvert_exporter": "python",
   "pygments_lexer": "ipython2",
   "version": "2.7.14"
  }
 },
 "nbformat": 4,
 "nbformat_minor": 2
}
